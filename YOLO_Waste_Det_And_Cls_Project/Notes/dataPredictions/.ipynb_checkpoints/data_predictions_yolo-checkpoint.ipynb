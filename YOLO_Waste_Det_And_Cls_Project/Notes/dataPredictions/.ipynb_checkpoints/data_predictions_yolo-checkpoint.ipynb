{
 "cells": [
  {
   "cell_type": "code",
   "execution_count": 6,
   "id": "ad598b60-be5c-447c-bdce-76bd4f721e54",
   "metadata": {},
   "outputs": [],
   "source": [
    "import cv2\n",
    "import numpy as np\n",
    "import os\n",
    "import yaml\n",
    "from yaml.loader import SafeLoader"
   ]
  },
  {
   "cell_type": "code",
   "execution_count": 8,
   "id": "da0d8c59-3053-4fbb-85ce-67b5baa78dd6",
   "metadata": {},
   "outputs": [
    {
     "name": "stdout",
     "output_type": "stream",
     "text": [
      "['battery', 'biological', 'cardboard', 'glass', 'metal', 'paper', 'plastic', 'trash']\n"
     ]
    }
   ],
   "source": [
    "# Load YAML file\n",
    "with open('data.yaml',mode='r') as f:\n",
    "    data_yaml = yaml.load(f,Loader=SafeLoader)\n",
    "\n",
    "labels = data_yaml['names']\n",
    "print(labels)\n",
    "\n"
   ]
  },
  {
   "cell_type": "code",
   "execution_count": 9,
   "id": "80722c6f-5a97-4304-9961-e033da6aabe3",
   "metadata": {},
   "outputs": [],
   "source": [
    "# Load YOLO Model\n",
    "yolo = cv2.dnn.readNetFromONNX('./Model5/weights/best.onnx')\n",
    "yolo.setPreferableBackend(cv2.dnn.DNN_BACKEND_OPENCV)\n",
    "yolo.setPreferableTarget(cv2.dnn.DNN_TARGET_CPU)"
   ]
  },
  {
   "cell_type": "code",
   "execution_count": 11,
   "id": "856fb4ff-4c9a-4cd9-bdc2-47ade5e507dc",
   "metadata": {},
   "outputs": [],
   "source": [
    "# Load the image\n",
    "img = cv2.imread('./photo.jpg')\n",
    "image = img.copy()\n",
    "row, col, d = image.shape\n",
    "\n",
    "# get the YOLO prediction from the image\n",
    "# step-1 convert image into square image (array)\n",
    "max_rc = max(row,col)\n",
    "input_image = np.zeros((max_rc,max_rc,3),dtype = np.uint8)\n",
    "input_image[0:row,0:col] = image\n",
    "\n",
    "# step-2: get prediction from square array\n",
    "INPUT_WH_YOLO = 640\n",
    "blob = cv2.dnn.blobFromImage(input_image,1/255,(INPUT_WH_YOLO,INPUT_WH_YOLO),swapRB = True, crop = False)\n",
    "yolo.setInput(blob)\n",
    "predits = yolo.forward()  #detection or prediction from YOLO Model\n",
    "\n",
    "# cv2.imshow('photo',input_image)\n",
    "# cv2.waitKey(0)\n",
    "# cv2.destroyAllWindows()"
   ]
  },
  {
   "cell_type": "code",
   "execution_count": 12,
   "id": "9c2f521a-5ec0-4613-9b60-d2b9ea562824",
   "metadata": {},
   "outputs": [
    {
     "name": "stdout",
     "output_type": "stream",
     "text": [
      "(1, 25200, 13)\n"
     ]
    }
   ],
   "source": [
    "print(predits.shape)"
   ]
  },
  {
   "cell_type": "code",
   "execution_count": 42,
   "id": "f3c758df-56ac-49fe-9901-e2bbbb8e0e04",
   "metadata": {},
   "outputs": [],
   "source": [
    "# Non Maximum Supression\n",
    "# sept-1: filter detection based on confidenc (0.4) and probability score (0.25)\n",
    "detections = predits[0]\n",
    "boxes = []\n",
    "confidences = []\n",
    "classes = []\n",
    "\n",
    "# width and height of the image (photo)\n",
    "image_w, image_h = input_image.shape[:2]\n",
    "x_factor = image_w/INPUT_WH_YOLO\n",
    "y_factor = image_h/INPUT_WH_YOLO\n",
    "\n",
    "for i in range(len(detections)):\n",
    "    row = detections[i]\n",
    "    confidence = row[4]  #confidnece of detection on object\n",
    "    if confidence > 0.2:\n",
    "        class_score = row[5:].max()  #maximum probility from 13 objects\n",
    "        class_id = row[5:].argmax() #get the index position at which max probability occur\n",
    "\n",
    "        if class_score > 0.13:\n",
    "            cx, cy, w, h = row[0:4]\n",
    "            # construct bounding box from four values\n",
    "            # left, top, width and height\n",
    "            left = int((cx - 0.5*w)*x_factor)\n",
    "            top = int((cy - 0.5*h)*y_factor)\n",
    "            width = int(w*x_factor)\n",
    "            height = int(h*y_factor)\n",
    "\n",
    "            box = np.array([left, top, width, height])\n",
    "\n",
    "            # oppend values into the list\n",
    "            confidences.append(confidence)\n",
    "            boxes.append(box)\n",
    "            classes.append(class_id)\n",
    "# clean\n",
    "boxes_np = np.array(boxes).tolist()\n",
    "confidences_np = np.array(confidences).tolist()\n",
    "\n",
    "# NMS\n",
    "index = cv2.dnn.NMSBoxes(boxes_np,confidences_np,0.13,0.45).flatten()\n"
   ]
  },
  {
   "cell_type": "code",
   "execution_count": 38,
   "id": "891b6ff0-914d-4299-bdbb-d17fae223c16",
   "metadata": {},
   "outputs": [
    {
     "data": {
      "text/plain": [
       "[np.float32(0.2329178),\n",
       " np.float32(0.22322762),\n",
       " np.float32(0.3740743),\n",
       " np.float32(0.37266365),\n",
       " np.float32(0.3651445),\n",
       " np.float32(0.34686896),\n",
       " np.float32(0.3933583),\n",
       " np.float32(0.31006363)]"
      ]
     },
     "execution_count": 38,
     "metadata": {},
     "output_type": "execute_result"
    }
   ],
   "source": [
    "confidences"
   ]
  },
  {
   "cell_type": "code",
   "execution_count": 34,
   "id": "62068014-f1c6-4abb-b8ab-23849ad0b8b7",
   "metadata": {},
   "outputs": [
    {
     "data": {
      "text/plain": [
       "[array([ 74, 221, 426, 254]),\n",
       " array([ 79, 226, 413, 260]),\n",
       " array([ 46,  79, 988, 806]),\n",
       " array([151,  29, 909, 894]),\n",
       " array([319,  68, 695, 839]),\n",
       " array([ 58, 123, 946, 724]),\n",
       " array([127,  84, 942, 799]),\n",
       " array([278,  76, 783, 822])]"
      ]
     },
     "execution_count": 34,
     "metadata": {},
     "output_type": "execute_result"
    }
   ],
   "source": [
    "boxes"
   ]
  },
  {
   "cell_type": "code",
   "execution_count": 35,
   "id": "6c26cdf6-d779-4978-8a99-8883890e3bb5",
   "metadata": {},
   "outputs": [
    {
     "data": {
      "text/plain": [
       "[np.int64(7),\n",
       " np.int64(7),\n",
       " np.int64(7),\n",
       " np.int64(7),\n",
       " np.int64(7),\n",
       " np.int64(7),\n",
       " np.int64(7),\n",
       " np.int64(7)]"
      ]
     },
     "execution_count": 35,
     "metadata": {},
     "output_type": "execute_result"
    }
   ],
   "source": [
    "classes"
   ]
  },
  {
   "cell_type": "code",
   "execution_count": 44,
   "id": "014c0c0c-f12e-47d1-90fb-53787c8b0432",
   "metadata": {},
   "outputs": [
    {
     "data": {
      "text/plain": [
       "2"
      ]
     },
     "execution_count": 44,
     "metadata": {},
     "output_type": "execute_result"
    }
   ],
   "source": [
    "len(index)"
   ]
  },
  {
   "cell_type": "code",
   "execution_count": 48,
   "id": "3483fe89-ad3d-4d2f-a2d1-61b2474961e8",
   "metadata": {},
   "outputs": [],
   "source": [
    "# Draw the Bounding Box\n",
    "for ind in index:\n",
    "    # extract bounding box\n",
    "    x,y,w,h = boxes_np[ind]\n",
    "    boxb_conf = int(confidences_np[ind]*100)\n",
    "    classes_id = classes[ind]\n",
    "    class_name = labels[classes_id]\n",
    "\n",
    "    text = f'{class_name}: {boxb_conf}%'\n",
    "    # print(text)\n",
    "\n",
    "    # for rectangel \n",
    "    cv2.rectangle(image,(x,y),(x+w,y+h), (0,255,0),2)\n",
    "    cv2.rectangle(image,(x,y-30), (x+w,y), (255,255,255),-1)\n",
    "\n",
    "    # for Text\n",
    "    cv2.putText(image,text,(x,y-10),cv2.FONT_HERSHEY_PLAIN,0.7,(0,0,0),1)\n"
   ]
  },
  {
   "cell_type": "code",
   "execution_count": 50,
   "id": "244354a3-d83a-4b38-b367-aa66e336f213",
   "metadata": {},
   "outputs": [
    {
     "ename": "AttributeError",
     "evalue": "module 'cv2' has no attribute 'destoryAllWindows'",
     "output_type": "error",
     "traceback": [
      "\u001b[1;31m---------------------------------------------------------------------------\u001b[0m",
      "\u001b[1;31mAttributeError\u001b[0m                            Traceback (most recent call last)",
      "Cell \u001b[1;32mIn[50], line 4\u001b[0m\n\u001b[0;32m      2\u001b[0m cv2\u001b[38;5;241m.\u001b[39mimshow(\u001b[38;5;124m'\u001b[39m\u001b[38;5;124mdata_predictions_yolo\u001b[39m\u001b[38;5;124m'\u001b[39m, image)\n\u001b[0;32m      3\u001b[0m cv2\u001b[38;5;241m.\u001b[39mwaitKey(\u001b[38;5;241m0\u001b[39m)\n\u001b[1;32m----> 4\u001b[0m \u001b[43mcv2\u001b[49m\u001b[38;5;241;43m.\u001b[39;49m\u001b[43mdestoryAllWindows\u001b[49m()\n",
      "\u001b[1;31mAttributeError\u001b[0m: module 'cv2' has no attribute 'destoryAllWindows'"
     ]
    }
   ],
   "source": [
    "cv2.imshow('original',img)\n",
    "cv2.imshow('data_predictions_yolo', image)\n",
    "cv2.waitKey(0)\n",
    "cv2.destoryAllWindows()"
   ]
  }
 ],
 "metadata": {
  "kernelspec": {
   "display_name": "Python 3 (ipykernel)",
   "language": "python",
   "name": "python3"
  },
  "language_info": {
   "codemirror_mode": {
    "name": "ipython",
    "version": 3
   },
   "file_extension": ".py",
   "mimetype": "text/x-python",
   "name": "python",
   "nbconvert_exporter": "python",
   "pygments_lexer": "ipython3",
   "version": "3.10.11"
  }
 },
 "nbformat": 4,
 "nbformat_minor": 5
}
