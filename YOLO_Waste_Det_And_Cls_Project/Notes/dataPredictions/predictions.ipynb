{
 "cells": [
  {
   "cell_type": "code",
   "execution_count": 6,
   "id": "fb1e97e1-c629-4415-a61c-46c2620d6854",
   "metadata": {},
   "outputs": [],
   "source": [
    "import cv2\n",
    "from data_predit_yolo import YOLO_Pred"
   ]
  },
  {
   "cell_type": "code",
   "execution_count": 7,
   "id": "010da5d0-406e-4600-8c60-9feb74ca5220",
   "metadata": {},
   "outputs": [],
   "source": [
    "onnx_module = './Model5/weights/best.onnx'\n",
    "data_yaml = './data.yaml'\n",
    "\n",
    "yolo = YOLO_Pred(onnx_module,data_yaml)"
   ]
  },
  {
   "cell_type": "code",
   "execution_count": 8,
   "id": "9afe9064-da7e-4eec-bdf7-fb4eef1a0f16",
   "metadata": {},
   "outputs": [],
   "source": [
    "img = cv2.imread('./photo.jpg')\n",
    "\n",
    "cv2.imshow('img1',img)\n",
    "cv2.waitKey(0)\n",
    "cv2.destroyAllWindows()"
   ]
  },
  {
   "cell_type": "code",
   "execution_count": 9,
   "id": "d2a92c4c-2613-4959-afd9-fab780f77c59",
   "metadata": {},
   "outputs": [
    {
     "name": "stdout",
     "output_type": "stream",
     "text": [
      "(1, 25200, 13)\n",
      "Prediction Successful.\n"
     ]
    }
   ],
   "source": [
    "# Predictions\n",
    "\n",
    "img_pred = yolo.predictions(img)\n",
    "\n",
    "if img_pred is not None:\n",
    "    cv2.imshow('prediction image',img_pred)\n",
    "    cv2.waitKey(0)\n",
    "    cv2.destroyAllWindows()\n",
    "    print(\"Prediction Successful.\")\n",
    "else:\n",
    "    print(\"Error\")"
   ]
  },
  {
   "cell_type": "code",
   "execution_count": 22,
   "id": "7477af18-7fde-4f14-bb72-8b9846c52867",
   "metadata": {},
   "outputs": [],
   "source": [
    "##Real Time Ojbect Detection"
   ]
  },
  {
   "cell_type": "code",
   "execution_count": null,
   "id": "7a2dbd68-028c-4010-a5ab-73111f4b8be5",
   "metadata": {},
   "outputs": [
    {
     "name": "stdout",
     "output_type": "stream",
     "text": [
      "(1, 25200, 13)\n",
      "(1, 25200, 13)\n",
      "(1, 25200, 13)\n",
      "(1, 25200, 13)\n",
      "(1, 25200, 13)\n",
      "(1, 25200, 13)\n"
     ]
    }
   ],
   "source": [
    "cap = cv2.VideoCapture('video.mp4')\n",
    "\n",
    "while True:\n",
    "    ret, frame = cap.read()\n",
    "    if ret == False:\n",
    "        print('unable to read video')\n",
    "        break\n",
    "\n",
    "    pred_image = yolo.predictions(frame)\n",
    "\n",
    "    cv2.imshow('YOLO',pred_image)\n",
    "    if cv2.waitKey(1) == 27:\n",
    "        break\n",
    "\n",
    "cv2.destroyAllWindows()\n",
    "cap.release()"
   ]
  }
 ],
 "metadata": {
  "kernelspec": {
   "display_name": "Python 3 (ipykernel)",
   "language": "python",
   "name": "python3"
  },
  "language_info": {
   "codemirror_mode": {
    "name": "ipython",
    "version": 3
   },
   "file_extension": ".py",
   "mimetype": "text/x-python",
   "name": "python",
   "nbconvert_exporter": "python",
   "pygments_lexer": "ipython3",
   "version": "3.10.11"
  }
 },
 "nbformat": 4,
 "nbformat_minor": 5
}
